{
 "cells": [
  {
   "cell_type": "code",
   "execution_count": 1,
   "metadata": {},
   "outputs": [],
   "source": [
    "# 1. import everything you need (e.g., model, dataset, etc.)\n",
    "# 2. Use Random Search to find the best hyperparams(e.g., batch_size, augmentation, optimizer, loss_fn, etc.)\n",
    "# 3. Report the best train configuration\n",
    "# 4. Save the best values (for hyperparams)\n",
    "# 5. Use the found values in \"train.ipynb\" to train the model with them"
   ]
  },
  {
   "attachments": {},
   "cell_type": "markdown",
   "metadata": {},
   "source": [
    "# Code Cells for GoogleColab\n",
    "> This way we can execute our code from github without any hassles, just:\n",
    ">> 1. add all the packages needed (that is not in Colab) in \"requirements.txt\"\n",
    ">> 2. The github repo must be public, if the Colab account (e.g., <golab_pro_owner>@gmail.com) has not been granted access to that repo."
   ]
  },
  {
   "cell_type": "code",
   "execution_count": null,
   "metadata": {},
   "outputs": [],
   "source": [
    "# !git clone https://github.com/tekboart/semantic-segmentaion-pytorch"
   ]
  },
  {
   "cell_type": "code",
   "execution_count": null,
   "metadata": {},
   "outputs": [],
   "source": [
    "# %pwd"
   ]
  },
  {
   "cell_type": "code",
   "execution_count": null,
   "metadata": {},
   "outputs": [],
   "source": [
    "# %cd semantic-segmentaion-pytorch/"
   ]
  },
  {
   "cell_type": "code",
   "execution_count": null,
   "metadata": {},
   "outputs": [],
   "source": [
    "# !pip install -r requirements.txt"
   ]
  },
  {
   "cell_type": "code",
   "execution_count": 2,
   "metadata": {},
   "outputs": [
    {
     "name": "stderr",
     "output_type": "stream",
     "text": [
      "/home/tekboart/.local/lib/python3.11/site-packages/torchvision/datapoints/__init__.py:12: UserWarning: The torchvision.datapoints and torchvision.transforms.v2 namespaces are still Beta. While we do not expect major breaking changes, some APIs may still change according to user feedback. Please submit any feedback you may have in this issue: https://github.com/pytorch/vision/issues/6753, and you can also check out https://github.com/pytorch/vision/issues/7319 to learn more about the APIs that we suspect might involve future changes. You can silence this warning by calling torchvision.disable_beta_transforms_warning().\n",
      "  warnings.warn(_BETA_TRANSFORMS_WARNING)\n",
      "/home/tekboart/.local/lib/python3.11/site-packages/torchvision/transforms/v2/__init__.py:54: UserWarning: The torchvision.datapoints and torchvision.transforms.v2 namespaces are still Beta. While we do not expect major breaking changes, some APIs may still change according to user feedback. Please submit any feedback you may have in this issue: https://github.com/pytorch/vision/issues/6753, and you can also check out https://github.com/pytorch/vision/issues/7319 to learn more about the APIs that we suspect might involve future changes. You can silence this warning by calling torchvision.disable_beta_transforms_warning().\n",
      "  warnings.warn(_BETA_TRANSFORMS_WARNING)\n"
     ]
    }
   ],
   "source": [
    "# reload modules\n",
    "from importlib import reload\n",
    "\n",
    "# load pretrained segmentation models (written in pytorch)\n",
    "import segmentation_models_pytorch as smp\n",
    "from segmentation_models_pytorch.encoders import get_preprocessing_fn\n",
    "\n",
    "# PyTorch\n",
    "import torch\n",
    "import torch.nn as nn\n",
    "import torch.optim as optim\n",
    "from torch.optim.lr_scheduler import StepLR, ReduceLROnPlateau\n",
    "from torch.utils.data import DataLoader\n",
    "\n",
    "# torchvision\n",
    "from torchviz import make_dot\n",
    "import torchvision.transforms.v2 as TF\n",
    "\n",
    "# torchmetrics\n",
    "from torchmetrics.classification import Dice, BinaryJaccardIndex\n",
    "\n",
    "# Ray Tune\n",
    "import ray\n",
    "from ray import tune\n",
    "from ray.air import Checkpoint, session\n",
    "from ray.tune.schedulers import ASHAScheduler\n",
    "from ray.tune.search.optuna import OptunaSearch\n",
    "from ray.air.config import ScalingConfig\n",
    "\n",
    "# Serialize/Deserialize Json files\n",
    "import json\n",
    "\n",
    "# Data Augmentation\n",
    "import albumentations as A\n",
    "import albumentations.augmentations.functional as F\n",
    "from albumentations.pytorch import ToTensorV2\n",
    "\n",
    "# get data/time with desired format\n",
    "from datetime import datetime\n",
    "\n",
    "time_format = \"%Y.%m.%d@%H-%M-%S\"\n",
    "\n",
    "# work with images\n",
    "import cv2\n",
    "from PIL import Image\n",
    "\n",
    "# slice Iterables and turn to GEN\n",
    "from itertools import islice\n",
    "\n",
    "# keep numpy use to a min\n",
    "# as we store our torch.Tensors to GPU Vram but numpy in RAM (it only supports CPU)\n",
    "import pandas as pd\n",
    "import numpy as np\n",
    "import random\n",
    "\n",
    "# to have a progress bar\n",
    "from tqdm import tqdm\n",
    "\n",
    "# To use pretrained segmentation models (implement in PyTorch)\n",
    "\n",
    "# visualization\n",
    "import seaborn as sns\n",
    "import matplotlib.pyplot as plt\n",
    "from pprint import pprint\n",
    "# uncomment if wan't to globally aloow sns to handle plot style\n",
    "# it adds unwanted style (i.e., grid) to .imshow()\n",
    "# so better to use it a context manager to style only what I want\n",
    "# >>> with sns.axes_style('darkgrid'):\n",
    "# >>>     plt.imshow(...)\n",
    "# sns.set_theme(\n",
    "#     context=\"notebook\",\n",
    "#     style=\"darkgrid\",\n",
    "#     palette=\"deep\",\n",
    "#     font=\"sans-serif\",\n",
    "#     font_scale=1,\n",
    "#     color_codes=True,\n",
    "#     rc={'axes.grid': False},\n",
    "# )\n",
    "\n",
    "# OS/File/Path management\n",
    "import sys\n",
    "import os\n",
    "\n",
    "# Misc\n",
    "from functools import partial\n",
    "\n",
    "# load my custom Classes/Functions/etc.\n",
    "from utils.training import fit_fn\n",
    "from utils.dataset import get_loaders, SegmentaionDataset\n",
    "from utils.models.unet import UnetScratch\n",
    "from utils.visualization import (\n",
    "    image_mask_plot,\n",
    "    ImageAntiStandardize,\n",
    "    plot_metrics\n",
    ")\n",
    "from utils.metrics import (\n",
    "    AccuracyBinarySegment,\n",
    "    DiceBinarySegment,\n",
    "    JaccardBinarySegment,\n",
    "    PrecisionBinarySegment,\n",
    "    RecallBinarySegment,\n",
    "    F1BinarySegment,\n",
    "    DiceBCELoss,\n",
    ")"
   ]
  },
  {
   "attachments": {},
   "cell_type": "markdown",
   "metadata": {},
   "source": [
    "## Set Hyperparameters\n"
   ]
  },
  {
   "cell_type": "code",
   "execution_count": 3,
   "metadata": {},
   "outputs": [],
   "source": [
    "# os.environ[CUDA_VISIBLE_DEVICES]= \"1,3 ray start --head --num-gpus=2\""
   ]
  },
  {
   "attachments": {},
   "cell_type": "markdown",
   "metadata": {},
   "source": [
    "## Remove sources of non-determinism"
   ]
  },
  {
   "cell_type": "code",
   "execution_count": 4,
   "metadata": {},
   "outputs": [
    {
     "data": {
      "text/plain": [
       "<torch._C.Generator at 0x7f8bd6398510>"
      ]
     },
     "execution_count": 4,
     "metadata": {},
     "output_type": "execute_result"
    }
   ],
   "source": [
    "# use to seed the RNG for all devices (both CPU and CUDA).\n",
    "torch.manual_seed(0)\n",
    "# for custom operators, you might need to set python seed as well:\n",
    "random.seed(0)\n",
    "# If you or any of the libraries you are using rely on NumPy, you can seed the global NumPy RNG with:\n",
    "np.random.seed(0)\n",
    "\n",
    "# configure PyTorch to use deterministic algorithms instead of nondeterministic ones \n",
    "# A CAVEAT: throws an error if an operation is known to be nondeterministic (and without a deterministic alternative).\n",
    "# that is why we used warn_only to avoid raising Error\n",
    "torch.use_deterministic_algorithms(True, warn_only=True)\n",
    "# CUDA convolution determinism\n",
    "torch.backends.cudnn.deterministic = True\n",
    "\n",
    "# -- DataLoader\n",
    "# make it deterministic but allow it to random data order\n",
    "def seed_worker(worker_id):\n",
    "    worker_seed = torch.initial_seed() % 2**32\n",
    "    np.random.seed(worker_seed)\n",
    "    random.seed(worker_seed)\n",
    "\n",
    "DATA_LOADER_GEN = torch.Generator()\n",
    "DATA_LOADER_GEN.manual_seed(0)"
   ]
  },
  {
   "attachments": {},
   "cell_type": "markdown",
   "metadata": {},
   "source": [
    "# Define the Search Hyperparameters Space\n",
    "> that is, the hyperparameters and their correspondign values to search for."
   ]
  },
  {
   "cell_type": "code",
   "execution_count": 5,
   "metadata": {},
   "outputs": [],
   "source": [
    "# Create the Config dict\n",
    "config = {\n",
    "    'scaling_config': ScalingConfig(num_workers=8, use_gpu=True),\n",
    "    'lr': tune.loguniform(1e-4, 1e-2),\n",
    "    'scheduler_factor': tune.choice([.5, .3, .1]),\n",
    "    'batch_size': tune.choice([4, 8, 16, 32]),\n",
    "    'image_size': tune.choice([352, 256, 160]),  # sizes must be divisible by 32 \n",
    "    'pretrained_arch': tune.choice([smp.UnetPlusPlus, smp.FPN, smp.DeepLabV3Plus]),\n",
    "    #TODO: Maybe remove ResNet152 as it's both (1) comp expensive and (2) can overfit very easily (considering its #params)\n",
    "    'pretrained_encoder': tune.choice(['mobilenet_v2', 'timm-mobilenetv3_large_100', 'timm-efficientnet-b8', 'resnet152']),\n",
    "    'loss_fn': tune.choice([nn.BCEWithLogitsLoss(), DiceBCELoss(from_logits=True)]),\n",
    "    'train_augmentation': tune.choice([\n",
    "        #TODO: As my last model's val & test metrics were very different, then maybe I need stronger augmentations for the model to generalize better.\n",
    "        # We didn't included the resize/Flip/etc. that we know would cause no problem. so:\n",
    "        # Just use this A.Compose([*hyper_config['train_augmentation'], A.HorizontalFlip(...), A.Resize(..), etc.])\n",
    "        [\n",
    "            A.Rotate(limit=5, p=0.5),  # Use only when the img_height==img_width\n",
    "            A.RandomRotate90(p=0.5),  # Use only when the img_height==img_width\n",
    "            A.Transpose(p=0.5),  # Use only when the img_height==img_width\n",
    "            # A.CenterCrop(\n",
    "                #TODO: Remember to add vars image_height & image_width in the train func\n",
    "                # int(0.9 * image_height),\n",
    "                # int(0.9 * image_width),\n",
    "                # p=0.3,\n",
    "            # ),\n",
    "            A.ColorJitter(\n",
    "                brightness=0.3,\n",
    "                contrast=0.05,\n",
    "                saturation=0.1,\n",
    "                hue=0.05,\n",
    "                p=0.8,\n",
    "                # always_apply=True,\n",
    "            ),\n",
    "            A.ImageCompression(quality_lower=80, quality_upper=100, p=0.3),\n",
    "            A.RGBShift(\n",
    "                r_shift_limit=5,\n",
    "                g_shift_limit=5,\n",
    "                b_shift_limit=2,\n",
    "                p=0.8,\n",
    "                # always_apply=True,\n",
    "            ),\n",
    "        ],\n",
    "        [\n",
    "            A.Rotate(limit=5, p=0.5),  # Use only when the img_height==img_width\n",
    "            A.RandomRotate90(p=0.5),  # Use only when the img_height==img_width\n",
    "            A.Transpose(p=0.5),  # Use only when the img_height==img_width\n",
    "            A.ColorJitter(\n",
    "                brightness=0.3,\n",
    "                contrast=0.05,\n",
    "                saturation=0.1,\n",
    "                hue=0.05,\n",
    "                p=0.8,\n",
    "                # always_apply=True,\n",
    "            ),\n",
    "            A.RGBShift(\n",
    "                r_shift_limit=5,\n",
    "                g_shift_limit=5,\n",
    "                b_shift_limit=2,\n",
    "                p=0.8,\n",
    "                # always_apply=True,\n",
    "            ),\n",
    "        ]\n",
    "    ])\n",
    "\n",
    "}"
   ]
  },
  {
   "attachments": {},
   "cell_type": "markdown",
   "metadata": {},
   "source": [
    "# Create The Model Func\n",
    "> Everything needed for trainin a model needs to be within its scope (should not use any var from outside)"
   ]
  },
  {
   "cell_type": "code",
   "execution_count": 6,
   "metadata": {},
   "outputs": [],
   "source": [
    "# Create a model_creator_for_hyperserach to create + Compile a model (to be ready to be trained)\n",
    "# TODO: Can I make it reusable for other models as well?\n",
    "# A: I don't think\n",
    "def model_creator(config):\n",
    "    \"\"\"\n",
    "    instantiate + Compile + train (aka .fit()) a network\n",
    "\n",
    "    Parameters\n",
    "    ----------\n",
    "    hyper_config: dict\n",
    "        Includes all the hyperparmeters needed to be tuned.\n",
    "    \"\"\"\n",
    "    device = torch.device(\"cuda:0\" if torch.cuda.is_available() else \"cpu\")\n",
    "    print(\"Device used for calculation (CPU\\Cuda):\", device)\n",
    "\n",
    "    # Load all the needed variables (Ray Tune asks all the used variables to be inside this func scope)\n",
    "    hyper_params = {\n",
    "        \"device\": str(device),\n",
    "        \"lr\": 1e-3,\n",
    "        \"lr_finetune\": 1e-4,  # for transfer learning (phase 2) (= lr / 1000)\n",
    "        \"epochs\": 10,\n",
    "        \"epochs_finetune\": 10,  # for transfer learning (phase 2)\n",
    "        \"batch_size\": 16,\n",
    "        \"num_workers\": 2,\n",
    "        # Use Height == Width to use 90-rotations/transpose in data aug\n",
    "        \"image_height\": 352,\n",
    "        \"image_width\": 352,\n",
    "        \"input_channels\": 3,\n",
    "        \"num_classes\": 1,\n",
    "        \"data_format\": \"channels_first\",\n",
    "        \"pin_mem\": True,\n",
    "        \"scheduler_step\": 5,\n",
    "        \"scheduler_factor\": 0.5,\n",
    "        \"scheduler_factor_finetune\": 0.5,  # for transfer learning (phase 2)\n",
    "        \"train_img_dir\": os.path.join(\"data\", \"traincrop\", \"img\"),\n",
    "        \"train_mask_dir\": os.path.join(\"data\", \"traincrop\", \"mask\"),\n",
    "        \"val_img_dir\": os.path.join(\"data\", \"valcrop\", \"img\"),\n",
    "        \"val_mask_dir\": os.path.join(\"data\", \"valcrop\", \"mask\"),\n",
    "        \"test_img_dir\": os.path.join(\"data\", \"testcrop\", \"img\"),\n",
    "        \"test_mask_dir\": os.path.join(\"data\", \"testcrop\", \"mask\"),\n",
    "        \"pretrained_model_encoder\": \"timm-mobilenetv3_large_100\",\n",
    "    }\n",
    "\n",
    "    def seed_worker(worker_id):\n",
    "        worker_seed = torch.initial_seed() % 2**32\n",
    "        np.random.seed(worker_seed)\n",
    "        random.seed(worker_seed)\n",
    "\n",
    "    DATA_LOADER_GEN = torch.Generator()\n",
    "    DATA_LOADER_GEN.manual_seed(0)\n",
    "\n",
    "    # Load a Pretrained Model\n",
    "    # TODO: Load the preprocess_fn before, so no need to create it for each run\n",
    "    model_arch = config[\"pretrained_arch\"]\n",
    "\n",
    "    # create the model\n",
    "    model = model_arch(\n",
    "        # choose encoder\n",
    "        encoder_name=config[\"pretrained_encoder\"],\n",
    "        # use `imagenet` pre-trained weights for encoder initialization\n",
    "        encoder_weights=\"imagenet\",\n",
    "        # model input channels (1 for gray-scale images, 3 for RGB, etc.)\n",
    "        in_channels=hyper_params[\"input_channels\"],\n",
    "        # model output channels (number of classes in your dataset)\n",
    "        classes=hyper_params[\"num_classes\"],\n",
    "    )\n",
    "\n",
    "    preprocess_input = get_preprocessing_fn(\n",
    "        config[\"pretrained_encoder\"], pretrained=\"imagenet\"\n",
    "    )\n",
    "\n",
    "    # Create Data Augmentation\n",
    "    train_transform = A.Compose(\n",
    "        [\n",
    "            *config[\"train_augmentation\"],\n",
    "            A.HorizontalFlip(p=0.5),\n",
    "            A.VerticalFlip(p=0.1),\n",
    "            A.Resize(height=config[\"image_size\"], width=config[\"image_size\"]),\n",
    "        ],\n",
    "    )\n",
    "\n",
    "    # we don't want TTA, just some resize, normalization, etc.\n",
    "    val_transform = A.Compose(\n",
    "        [\n",
    "            A.Resize(height=config[\"image_size\"], width=config[\"image_size\"]),\n",
    "        ],\n",
    "    )\n",
    "\n",
    "    # Create the Datasets\n",
    "    train_ds = SegmentaionDataset(\n",
    "        image_dir=hyper_params[\"train_img_dir\"],\n",
    "        mask_dir=hyper_params[\"train_mask_dir\"],\n",
    "        transform=train_transform,\n",
    "        preprocess_fn=preprocess_input,\n",
    "        mask_suffix=\"\",\n",
    "        # subset=[0, 10],\n",
    "    )\n",
    "    val_ds = SegmentaionDataset(\n",
    "        image_dir=hyper_params[\"val_img_dir\"],\n",
    "        mask_dir=hyper_params[\"val_mask_dir\"],\n",
    "        transform=val_transform,\n",
    "        preprocess_fn=preprocess_input,\n",
    "        mask_suffix=\"\",\n",
    "        # subset=[0, 5],\n",
    "    )\n",
    "    train_loader, val_loader = get_loaders(\n",
    "        train_ds,\n",
    "        val_ds,\n",
    "        batch_size=config[\"batch_size\"],\n",
    "        num_workers=hyper_params[\"num_workers\"],\n",
    "        pin_memory=hyper_params[\"pin_mem\"],\n",
    "        worker_init_fn=seed_worker,\n",
    "        generator=DATA_LOADER_GEN,\n",
    "    )\n",
    "\n",
    "    # Define Metrics\n",
    "    metrics = {\n",
    "        \"jaccard (IOU)\": JaccardBinarySegment(from_logits=True),\n",
    "        \"recall\": RecallBinarySegment(from_logits=True),\n",
    "        \"precision\": PrecisionBinarySegment(from_logits=True),\n",
    "        \"dice (F1-Score)\": DiceBinarySegment(from_logits=True),\n",
    "    }\n",
    "\n",
    "    # Define Loss_fn, Optimizer, and Scheduler\n",
    "    loss_fn = config[\"loss_fn\"]\n",
    "    optimizer = optim.Adam(model.parameters(), lr=config[\"lr\"])\n",
    "    scheduler = ReduceLROnPlateau(\n",
    "        optimizer,\n",
    "        mode=\"min\",\n",
    "        factor=config[\"scheduler_factor\"],\n",
    "        # factor=hyper_params[\"scheduler_factor\"],\n",
    "        patience=2,\n",
    "        min_lr=1e-6,\n",
    "        threshold=1e-3,\n",
    "    )\n",
    "\n",
    "    # train the model (and get the history)\n",
    "    # TODO: must change the fit_fn to use session.report(...)\n",
    "    # TODO: use verbose=False to make the output of ray tune clean\n",
    "    history = fit_fn(\n",
    "        model,\n",
    "        train_loader,\n",
    "        optimizer,\n",
    "        loss_fn,\n",
    "        scheduler,\n",
    "        metrics=metrics,\n",
    "        val_loader=val_loader,\n",
    "        epochs=hyper_params[\"epochs\"],\n",
    "        device=device,\n",
    "        ray_tune=True,\n",
    "    )"
   ]
  },
  {
   "cell_type": "code",
   "execution_count": 7,
   "metadata": {},
   "outputs": [],
   "source": [
    "# Create a partial func of the model_creator (using functools.partial)\n",
    "# as we only change the hyperparams of interest for each run of Ray Tune (i.e., hyperparam_tuner)"
   ]
  },
  {
   "attachments": {},
   "cell_type": "markdown",
   "metadata": {},
   "source": [
    "# Create Tuner Func"
   ]
  },
  {
   "cell_type": "code",
   "execution_count": 8,
   "metadata": {},
   "outputs": [],
   "source": [
    "def hyperparam_tuner(\n",
    "    config: dict,\n",
    "    num_samples: int = 10,\n",
    "    max_num_epochs: int = 10,\n",
    "    tune_metric: str = \"val_loss\",\n",
    "    tune_metric_mode: str = \"min\",\n",
    "):\n",
    "    \"\"\"\n",
    "    Given a model and a set of hyperparameters,\n",
    "    tries to find the best combination and return the best performing model.\n",
    "\n",
    "    Parameters\n",
    "    ----------\n",
    "    hyper_config: dict\n",
    "    max_num_epochs: int\n",
    "    num_samples: int\n",
    "        Define the total number of samples/combinatin to use to train the model.\n",
    "        In other words, the number of models to train for finding the best hyperparameters.\n",
    "    tune_metric: str\n",
    "        The name of the metric (e.g., val_loss) by which the performance of mdoels are assessed.\n",
    "    tune_metric_mode: str\n",
    "        Either \"min\" (default) or \"max\", depending on the chosen tune_metric. Specifies whether \"min\" values are desired, or vice versa.\n",
    "    gpus_per_trial: int\n",
    "\n",
    "\n",
    "    \"\"\"\n",
    "    # use ASHAScheduler to stop training early on if the model's plight is doomed\n",
    "    scheduler_ray = ASHAScheduler(\n",
    "        # metric=\"loss\",  # this is specified in the Tuner's tune.TuneConifg, so only one must be present.\n",
    "        # mode=\"min\",  # this is specified in the Tuner's tune.TuneConifg, so only one must be present.\n",
    "        max_t=max_num_epochs,\n",
    "        grace_period=1,\n",
    "        reduction_factor=2,\n",
    "    )\n",
    "\n",
    "    # method 1 (less control): from Pytorch Tutorials\n",
    "    # results = tune.run(\n",
    "    #     model_creator,\n",
    "    #     resources_per_trial={\"cpu\": 2, \"gpu\": gpus_per_trial},\n",
    "    #     config=hyper_config,\n",
    "    #     num_samples=num_samples,\n",
    "    #     scheduler=scheduler_ray,\n",
    "    # )\n",
    "\n",
    "    # method 2 (more control): from Ray Tune official documentaions\n",
    "    tuner = tune.Tuner(\n",
    "        model_creator,\n",
    "        param_space=config,\n",
    "        tune_config=tune.TuneConfig(\n",
    "            num_samples=num_samples,\n",
    "            metric=tune_metric,\n",
    "            mode=tune_metric_mode,\n",
    "            search_alg=OptunaSearch(),  # Optuna Works better than Random Search (BOn Pytorch official YouTube)\n",
    "            scheduler=scheduler_ray,\n",
    "            chdir_to_trial_dir=False,  # if True (default) the Ray tune will change the current dir, thus no relative path (e.g., path to our data) doesn't work.\n",
    "        ),\n",
    "    )\n",
    "    results = tuner.fit()\n",
    "\n",
    "    best_trial = results.get_best_trial(tune_metric, tune_metric_mode, \"last\")\n",
    "    print(f\"Best trial config: {best_trial.config}\")\n",
    "\n",
    "    metrics = [\"loss\", \"jaccard (IOU)\", \"dice (F1-Score)\", \"recall\", \"precision\"]\n",
    "    for metric in metrics:\n",
    "        print(f\"Best trial final {metric}: {best_trial.last_result[metric]}\")\n",
    "    print(f\"Best trial final validation accuracy: {best_trial.last_result['accuracy']}\")\n",
    "\n",
    "    return results"
   ]
  },
  {
   "attachments": {},
   "cell_type": "markdown",
   "metadata": {},
   "source": [
    "# Run the Tuner"
   ]
  },
  {
   "cell_type": "code",
   "execution_count": 9,
   "metadata": {},
   "outputs": [
    {
     "name": "stderr",
     "output_type": "stream",
     "text": [
      "2023-07-13 12:11:14,798\tINFO worker.py:1636 -- Started a local Ray instance.\n",
      "2023-07-13 12:11:15,904\tINFO tune.py:226 -- Initializing Ray automatically. For cluster usage or custom Ray initialization, call `ray.init(...)` before `Tuner(...)`.\n",
      "/home/tekboart/.local/lib/python3.11/site-packages/ray/tune/search/optuna/optuna_search.py:664: FutureWarning: LogUniformDistribution has been deprecated in v3.0.0. This feature will be removed in v6.0.0. See https://github.com/optuna/optuna/releases/tag/v3.0.0. Use :class:`~optuna.distributions.FloatDistribution` instead.\n",
      "  return ot.distributions.LogUniformDistribution(\n",
      "/home/tekboart/.local/lib/python3.11/site-packages/optuna/distributions.py:524: UserWarning: Choices for a categorical distribution should be a tuple of None, bool, int, float and str for persistent storage but contains ('__ref_ph', 'c70cbae7') which is of type tuple.\n",
      "  warnings.warn(message)\n",
      "/home/tekboart/.local/lib/python3.11/site-packages/optuna/distributions.py:524: UserWarning: Choices for a categorical distribution should be a tuple of None, bool, int, float and str for persistent storage but contains ('__ref_ph', 'd08b895f') which is of type tuple.\n",
      "  warnings.warn(message)\n",
      "/home/tekboart/.local/lib/python3.11/site-packages/optuna/distributions.py:524: UserWarning: Choices for a categorical distribution should be a tuple of None, bool, int, float and str for persistent storage but contains ('__ref_ph', 'c9fd45ce') which is of type tuple.\n",
      "  warnings.warn(message)\n",
      "/home/tekboart/.local/lib/python3.11/site-packages/optuna/distributions.py:524: UserWarning: Choices for a categorical distribution should be a tuple of None, bool, int, float and str for persistent storage but contains ('__ref_ph', 'f214218d') which is of type tuple.\n",
      "  warnings.warn(message)\n",
      "/home/tekboart/.local/lib/python3.11/site-packages/optuna/distributions.py:524: UserWarning: Choices for a categorical distribution should be a tuple of None, bool, int, float and str for persistent storage but contains ('__ref_ph', '881911f9') which is of type tuple.\n",
      "  warnings.warn(message)\n",
      "/home/tekboart/.local/lib/python3.11/site-packages/optuna/distributions.py:524: UserWarning: Choices for a categorical distribution should be a tuple of None, bool, int, float and str for persistent storage but contains [('__ref_ph', '0a114c4f'), ('__ref_ph', '1ae38e74'), ('__ref_ph', 'e52c4284'), ('__ref_ph', 'd1d84746'), ('__ref_ph', 'c2045ddd'), ('__ref_ph', '3de8a409')] which is of type list.\n",
      "  warnings.warn(message)\n",
      "/home/tekboart/.local/lib/python3.11/site-packages/optuna/distributions.py:524: UserWarning: Choices for a categorical distribution should be a tuple of None, bool, int, float and str for persistent storage but contains [('__ref_ph', '97fc5fbf'), ('__ref_ph', '068cc855'), ('__ref_ph', '250c953c'), ('__ref_ph', '1a0165b8'), ('__ref_ph', '9caf1824')] which is of type list.\n",
      "  warnings.warn(message)\n",
      "[I 2023-07-13 12:11:15,924] A new study created in memory with name: optuna\n"
     ]
    },
    {
     "data": {
      "text/html": [
       "<div class=\"tuneStatus\">\n",
       "  <div style=\"display: flex;flex-direction: row\">\n",
       "    <div style=\"display: flex;flex-direction: column;\">\n",
       "      <h3>Tune Status</h3>\n",
       "      <table>\n",
       "<tbody>\n",
       "<tr><td>Current time:</td><td>2023-07-13 12:12:16</td></tr>\n",
       "<tr><td>Running for: </td><td>00:01:00.82        </td></tr>\n",
       "<tr><td>Memory:      </td><td>17.7/31.2 GiB      </td></tr>\n",
       "</tbody>\n",
       "</table>\n",
       "    </div>\n",
       "    <div class=\"vDivider\"></div>\n",
       "    <div class=\"systemInfo\">\n",
       "      <h3>System Info</h3>\n",
       "      Using AsyncHyperBand: num_stopped=0<br>Bracket: Iter 8.000: None | Iter 4.000: None | Iter 2.000: None | Iter 1.000: None<br>Logical resource usage: 7.0/8 CPUs, 0/1 GPUs (0.0/1.0 accelerator_type:G)\n",
       "    </div>\n",
       "    \n",
       "  </div>\n",
       "  <div class=\"hDivider\"></div>\n",
       "  <div class=\"trialStatus\">\n",
       "    <h3>Trial Status</h3>\n",
       "    <table>\n",
       "<thead>\n",
       "<tr><th>Trial name            </th><th>status  </th><th>loc                 </th><th style=\"text-align: right;\">  batch_size</th><th style=\"text-align: right;\">  image_size</th><th>loss_fn            </th><th style=\"text-align: right;\">         lr</th><th>pretrained_arch     </th><th>pretrained_encoder  </th><th style=\"text-align: right;\">  scheduler_factor</th><th>train_augmentation  </th></tr>\n",
       "</thead>\n",
       "<tbody>\n",
       "<tr><td>model_creator_93bb10b8</td><td>RUNNING </td><td>192.168.1.103:274805</td><td style=\"text-align: right;\">           8</td><td style=\"text-align: right;\">         352</td><td>DiceBCELoss()      </td><td style=\"text-align: right;\">0.00404718 </td><td>&lt;class &#x27;segment_7310</td><td>timm-mobilenetv_d8e0</td><td style=\"text-align: right;\">               0.5</td><td>[Rotate(always__0d40</td></tr>\n",
       "<tr><td>model_creator_4722dbbe</td><td>RUNNING </td><td>192.168.1.103:274858</td><td style=\"text-align: right;\">          32</td><td style=\"text-align: right;\">         256</td><td>DiceBCELoss()      </td><td style=\"text-align: right;\">0.00724133 </td><td>&lt;class &#x27;segment_e050</td><td>timm-mobilenetv_d8e0</td><td style=\"text-align: right;\">               0.5</td><td>[Rotate(always__9e00</td></tr>\n",
       "<tr><td>model_creator_730703b1</td><td>RUNNING </td><td>192.168.1.103:275010</td><td style=\"text-align: right;\">           4</td><td style=\"text-align: right;\">         256</td><td>DiceBCELoss()      </td><td style=\"text-align: right;\">0.00392037 </td><td>&lt;class &#x27;segment_7310</td><td>mobilenet_v2        </td><td style=\"text-align: right;\">               0.1</td><td>[Rotate(always__2a80</td></tr>\n",
       "<tr><td>model_creator_1500689b</td><td>RUNNING </td><td>192.168.1.103:275174</td><td style=\"text-align: right;\">          16</td><td style=\"text-align: right;\">         160</td><td>BCEWithLogitsLoss()</td><td style=\"text-align: right;\">0.00665375 </td><td>&lt;class &#x27;segment_36a0</td><td>timm-mobilenetv_d8e0</td><td style=\"text-align: right;\">               0.5</td><td>[Rotate(always__3440</td></tr>\n",
       "<tr><td>model_creator_203a0c2d</td><td>RUNNING </td><td>192.168.1.103:275367</td><td style=\"text-align: right;\">          32</td><td style=\"text-align: right;\">         352</td><td>DiceBCELoss()      </td><td style=\"text-align: right;\">0.00259013 </td><td>&lt;class &#x27;segment_e050</td><td>timm-mobilenetv_d8e0</td><td style=\"text-align: right;\">               0.1</td><td>[Rotate(always__f140</td></tr>\n",
       "<tr><td>model_creator_fb978d3b</td><td>RUNNING </td><td>192.168.1.103:275624</td><td style=\"text-align: right;\">          32</td><td style=\"text-align: right;\">         256</td><td>BCEWithLogitsLoss()</td><td style=\"text-align: right;\">0.00153971 </td><td>&lt;class &#x27;segment_e050</td><td>mobilenet_v2        </td><td style=\"text-align: right;\">               0.1</td><td>[Rotate(always__1b80</td></tr>\n",
       "<tr><td>model_creator_f11f6220</td><td>PENDING </td><td>                    </td><td style=\"text-align: right;\">           8</td><td style=\"text-align: right;\">         160</td><td>BCEWithLogitsLoss()</td><td style=\"text-align: right;\">0.000344904</td><td>&lt;class &#x27;segment_7310</td><td>timm-mobilenetv_d8e0</td><td style=\"text-align: right;\">               0.5</td><td>[Rotate(always__7f00</td></tr>\n",
       "</tbody>\n",
       "</table>\n",
       "  </div>\n",
       "</div>\n",
       "<style>\n",
       ".tuneStatus {\n",
       "  color: var(--jp-ui-font-color1);\n",
       "}\n",
       ".tuneStatus .systemInfo {\n",
       "  display: flex;\n",
       "  flex-direction: column;\n",
       "}\n",
       ".tuneStatus td {\n",
       "  white-space: nowrap;\n",
       "}\n",
       ".tuneStatus .trialStatus {\n",
       "  display: flex;\n",
       "  flex-direction: column;\n",
       "}\n",
       ".tuneStatus h3 {\n",
       "  font-weight: bold;\n",
       "}\n",
       ".tuneStatus .hDivider {\n",
       "  border-bottom-width: var(--jp-border-width);\n",
       "  border-bottom-color: var(--jp-border-color0);\n",
       "  border-bottom-style: solid;\n",
       "}\n",
       ".tuneStatus .vDivider {\n",
       "  border-left-width: var(--jp-border-width);\n",
       "  border-left-color: var(--jp-border-color0);\n",
       "  border-left-style: solid;\n",
       "  margin: 0.5em 1em 0.5em 1em;\n",
       "}\n",
       "</style>\n"
      ],
      "text/plain": [
       "<IPython.core.display.HTML object>"
      ]
     },
     "metadata": {},
     "output_type": "display_data"
    },
    {
     "name": "stderr",
     "output_type": "stream",
     "text": [
      "/home/tekboart/.local/lib/python3.11/site-packages/optuna/distributions.py:781: FutureWarning: LogUniformDistribution(high=0.01, low=0.0001) is deprecated and internally converted to FloatDistribution(high=0.01, log=True, low=0.0001, step=None). See https://github.com/optuna/optuna/issues/2941.\n",
      "  warnings.warn(message, FutureWarning)\n"
     ]
    },
    {
     "name": "stdout",
     "output_type": "stream",
     "text": [
      "\u001b[2m\u001b[36m(model_creator pid=274805)\u001b[0m Device used for calculation (CPU\\Cuda): cpu\n"
     ]
    },
    {
     "name": "stderr",
     "output_type": "stream",
     "text": [
      "\u001b[2m\u001b[36m(model_creator pid=274805)\u001b[0m 2023-07-13 12:11:21.135929: I tensorflow/core/platform/cpu_feature_guard.cc:182] This TensorFlow binary is optimized to use available CPU instructions in performance-critical operations.\n",
      "\u001b[2m\u001b[36m(model_creator pid=274805)\u001b[0m To enable the following instructions: AVX2 FMA, in other operations, rebuild TensorFlow with the appropriate compiler flags.\n",
      "\u001b[2m\u001b[36m(model_creator pid=274805)\u001b[0m 2023-07-13 12:11:22.004664: W tensorflow/compiler/tf2tensorrt/utils/py_utils.cc:38] TF-TRT Warning: Could not find TensorRT\n",
      "\u001b[2m\u001b[36m(model_creator pid=274805)\u001b[0m /home/tekboart/.local/lib/python3.11/site-packages/torch/cuda/amp/grad_scaler.py:120: UserWarning: torch.cuda.amp.GradScaler is enabled, but CUDA is not available.  Disabling.\n",
      "\u001b[2m\u001b[36m(model_creator pid=274805)\u001b[0m   warnings.warn(\"torch.cuda.amp.GradScaler is enabled, but CUDA is not available.  Disabling.\")\n",
      "Epoch 1:   0%|          | 0/237 [00:00<?, ?it/s]\n"
     ]
    },
    {
     "name": "stdout",
     "output_type": "stream",
     "text": [
      "\u001b[2m\u001b[36m(model_creator pid=274805)\u001b[0m ---------------------------------- epoch 1/10 ---------------------------------\n"
     ]
    },
    {
     "name": "stderr",
     "output_type": "stream",
     "text": [
      "Epoch 1:   0%|          | 1/237 [00:00<03:00,  1.31it/s]\n",
      "Epoch 1:   1%|▏         | 3/237 [00:01<01:37,  2.40it/s]\n",
      "Epoch 1:   2%|▏         | 5/237 [00:01<01:11,  3.23it/s]\n",
      "Epoch 1:   3%|▎         | 7/237 [00:02<01:01,  3.73it/s]\n",
      "Epoch 1:   4%|▍         | 9/237 [00:02<01:00,  3.79it/s]\n",
      "Epoch 1:   5%|▍         | 11/237 [00:03<01:00,  3.72it/s]\n",
      "Epoch 1:   5%|▌         | 13/237 [00:03<00:59,  3.78it/s]\n",
      "Epoch 1:   6%|▋         | 15/237 [00:04<00:57,  3.86it/s]\n",
      "Epoch 1:   7%|▋         | 17/237 [00:04<00:54,  4.00it/s]\n"
     ]
    },
    {
     "name": "stdout",
     "output_type": "stream",
     "text": [
      "\u001b[2m\u001b[36m(model_creator pid=274858)\u001b[0m Device used for calculation (CPU\\Cuda): cpu\n"
     ]
    },
    {
     "name": "stderr",
     "output_type": "stream",
     "text": [
      "Epoch 1:   8%|▊         | 19/237 [00:05<00:57,  3.79it/s]\n",
      "\u001b[2m\u001b[36m(model_creator pid=274858)\u001b[0m 2023-07-13 12:11:27.808887: I tensorflow/core/platform/cpu_feature_guard.cc:182] This TensorFlow binary is optimized to use available CPU instructions in performance-critical operations.\n",
      "\u001b[2m\u001b[36m(model_creator pid=274858)\u001b[0m To enable the following instructions: AVX2 FMA, in other operations, rebuild TensorFlow with the appropriate compiler flags.\n",
      "Epoch 1:   9%|▉         | 21/237 [00:05<00:57,  3.76it/s]\n",
      "Epoch 1:  10%|▉         | 23/237 [00:06<00:57,  3.73it/s]\n",
      "\u001b[2m\u001b[36m(model_creator pid=274858)\u001b[0m 2023-07-13 12:11:28.902730: W tensorflow/compiler/tf2tensorrt/utils/py_utils.cc:38] TF-TRT Warning: Could not find TensorRT\n",
      "Epoch 1:  11%|█         | 25/237 [00:06<00:57,  3.71it/s]\n",
      "\u001b[2m\u001b[36m(model_creator pid=274858)\u001b[0m /home/tekboart/.local/lib/python3.11/site-packages/torch/cuda/amp/grad_scaler.py:120: UserWarning: torch.cuda.amp.GradScaler is enabled, but CUDA is not available.  Disabling.\n",
      "\u001b[2m\u001b[36m(model_creator pid=274858)\u001b[0m   warnings.warn(\"torch.cuda.amp.GradScaler is enabled, but CUDA is not available.  Disabling.\")\n",
      "Epoch 1:   0%|          | 0/60 [00:00<?, ?it/s]\n"
     ]
    },
    {
     "name": "stdout",
     "output_type": "stream",
     "text": [
      "\u001b[2m\u001b[36m(model_creator pid=274858)\u001b[0m ---------------------------------- epoch 1/10 ---------------------------------\n"
     ]
    },
    {
     "name": "stderr",
     "output_type": "stream",
     "text": [
      "Epoch 1:  11%|█▏        | 27/237 [00:07<00:59,  3.50it/s]\n",
      "Epoch 1:  12%|█▏        | 29/237 [00:08<00:55,  3.77it/s]\n",
      "Epoch 1:  13%|█▎        | 31/237 [00:08<00:46,  4.46it/s]\n",
      "Epoch 1:  14%|█▍        | 33/237 [00:08<00:42,  4.76it/s]\n",
      "Epoch 1:   8%|▊         | 5/60 [00:04<00:44,  1.24it/s]\u001b[32m [repeated 8x across cluster] (Ray deduplicates logs by default. Set RAY_DEDUP_LOGS=0 to disable log deduplication, or see https://docs.ray.io/en/master/ray-observability/ray-logging.html#log-deduplication for more options.)\u001b[0m\n"
     ]
    },
    {
     "name": "stdout",
     "output_type": "stream",
     "text": [
      "\u001b[2m\u001b[36m(model_creator pid=275010)\u001b[0m Device used for calculation (CPU\\Cuda): cpu\n"
     ]
    },
    {
     "name": "stderr",
     "output_type": "stream",
     "text": [
      "\u001b[2m\u001b[36m(model_creator pid=275010)\u001b[0m 2023-07-13 12:11:36.485955: I tensorflow/core/platform/cpu_feature_guard.cc:182] This TensorFlow binary is optimized to use available CPU instructions in performance-critical operations.\n",
      "\u001b[2m\u001b[36m(model_creator pid=275010)\u001b[0m To enable the following instructions: AVX2 FMA, in other operations, rebuild TensorFlow with the appropriate compiler flags.\n",
      "\u001b[2m\u001b[36m(model_creator pid=275010)\u001b[0m 2023-07-13 12:11:37.710181: W tensorflow/compiler/tf2tensorrt/utils/py_utils.cc:38] TF-TRT Warning: Could not find TensorRT\n",
      "\u001b[2m\u001b[36m(model_creator pid=275010)\u001b[0m /home/tekboart/.local/lib/python3.11/site-packages/torch/cuda/amp/grad_scaler.py:120: UserWarning: torch.cuda.amp.GradScaler is enabled, but CUDA is not available.  Disabling.\n",
      "\u001b[2m\u001b[36m(model_creator pid=275010)\u001b[0m   warnings.warn(\"torch.cuda.amp.GradScaler is enabled, but CUDA is not available.  Disabling.\")\n",
      "Epoch 1:   0%|          | 0/474 [00:00<?, ?it/s]\n"
     ]
    },
    {
     "name": "stdout",
     "output_type": "stream",
     "text": [
      "\u001b[2m\u001b[36m(model_creator pid=275010)\u001b[0m ---------------------------------- epoch 1/10 ---------------------------------\n"
     ]
    },
    {
     "name": "stderr",
     "output_type": "stream",
     "text": [
      "Epoch 1:   1%|          | 3/474 [00:00<01:11,  6.57it/s]\u001b[32m [repeated 13x across cluster]\u001b[0m\n",
      "Epoch 1:  10%|▉         | 46/474 [00:05<00:53,  8.02it/s]\u001b[32m [repeated 34x across cluster]\u001b[0m\n"
     ]
    },
    {
     "name": "stdout",
     "output_type": "stream",
     "text": [
      "\u001b[2m\u001b[36m(model_creator pid=275174)\u001b[0m Device used for calculation (CPU\\Cuda): cpu\n"
     ]
    },
    {
     "name": "stderr",
     "output_type": "stream",
     "text": [
      "\u001b[2m\u001b[36m(model_creator pid=275174)\u001b[0m 2023-07-13 12:11:46.529597: I tensorflow/core/platform/cpu_feature_guard.cc:182] This TensorFlow binary is optimized to use available CPU instructions in performance-critical operations.\n",
      "\u001b[2m\u001b[36m(model_creator pid=275174)\u001b[0m To enable the following instructions: AVX2 FMA, in other operations, rebuild TensorFlow with the appropriate compiler flags.\n",
      "\u001b[2m\u001b[36m(model_creator pid=275174)\u001b[0m 2023-07-13 12:11:47.814794: W tensorflow/compiler/tf2tensorrt/utils/py_utils.cc:38] TF-TRT Warning: Could not find TensorRT\n",
      "\u001b[2m\u001b[36m(model_creator pid=275174)\u001b[0m /home/tekboart/.local/lib/python3.11/site-packages/torch/cuda/amp/grad_scaler.py:120: UserWarning: torch.cuda.amp.GradScaler is enabled, but CUDA is not available.  Disabling.\n",
      "\u001b[2m\u001b[36m(model_creator pid=275174)\u001b[0m   warnings.warn(\"torch.cuda.amp.GradScaler is enabled, but CUDA is not available.  Disabling.\")\n",
      "Epoch 1:   0%|          | 0/119 [00:00<?, ?it/s]\n"
     ]
    },
    {
     "name": "stdout",
     "output_type": "stream",
     "text": [
      "\u001b[2m\u001b[36m(model_creator pid=275174)\u001b[0m ---------------------------------- epoch 1/10 ---------------------------------\n"
     ]
    },
    {
     "name": "stderr",
     "output_type": "stream",
     "text": [
      "Epoch 1:  19%|█▊        | 88/474 [00:10<00:47,  8.09it/s]\u001b[32m [repeated 40x across cluster]\u001b[0m\n",
      "Epoch 1:   8%|▊         | 10/119 [00:05<00:48,  2.23it/s]\u001b[32m [repeated 45x across cluster]\u001b[0m\n"
     ]
    },
    {
     "name": "stdout",
     "output_type": "stream",
     "text": [
      "\u001b[2m\u001b[36m(model_creator pid=275367)\u001b[0m Device used for calculation (CPU\\Cuda): cpu\n"
     ]
    },
    {
     "name": "stderr",
     "output_type": "stream",
     "text": [
      "\u001b[2m\u001b[36m(model_creator pid=275367)\u001b[0m 2023-07-13 12:11:57.963550: I tensorflow/core/platform/cpu_feature_guard.cc:182] This TensorFlow binary is optimized to use available CPU instructions in performance-critical operations.\n",
      "\u001b[2m\u001b[36m(model_creator pid=275367)\u001b[0m To enable the following instructions: AVX2 FMA, in other operations, rebuild TensorFlow with the appropriate compiler flags.\n",
      "Epoch 1:  17%|█▋        | 20/119 [00:10<00:52,  1.90it/s]\u001b[32m [repeated 48x across cluster]\u001b[0m\n",
      "\u001b[2m\u001b[36m(model_creator pid=275367)\u001b[0m 2023-07-13 12:11:59.634196: W tensorflow/compiler/tf2tensorrt/utils/py_utils.cc:38] TF-TRT Warning: Could not find TensorRT\n",
      "\u001b[2m\u001b[36m(model_creator pid=275367)\u001b[0m /home/tekboart/.local/lib/python3.11/site-packages/torch/cuda/amp/grad_scaler.py:120: UserWarning: torch.cuda.amp.GradScaler is enabled, but CUDA is not available.  Disabling.\n",
      "\u001b[2m\u001b[36m(model_creator pid=275367)\u001b[0m   warnings.warn(\"torch.cuda.amp.GradScaler is enabled, but CUDA is not available.  Disabling.\")\n",
      "Epoch 1:   0%|          | 0/60 [00:00<?, ?it/s]\n"
     ]
    },
    {
     "name": "stdout",
     "output_type": "stream",
     "text": [
      "\u001b[2m\u001b[36m(model_creator pid=275367)\u001b[0m ---------------------------------- epoch 1/10 ---------------------------------\n"
     ]
    },
    {
     "name": "stderr",
     "output_type": "stream",
     "text": [
      "Epoch 1:  60%|█████▉    | 142/237 [00:41<00:30,  3.07it/s]\u001b[32m [repeated 39x across cluster]\u001b[0m\n",
      "Epoch 1:  65%|██████▌   | 39/60 [00:39<00:26,  1.28s/it]\u001b[32m [repeated 41x across cluster]\u001b[0m\n"
     ]
    },
    {
     "name": "stdout",
     "output_type": "stream",
     "text": [
      "\u001b[2m\u001b[36m(model_creator pid=275624)\u001b[0m Device used for calculation (CPU\\Cuda): cpu\n"
     ]
    },
    {
     "name": "stderr",
     "output_type": "stream",
     "text": [
      "\u001b[2m\u001b[36m(model_creator pid=275624)\u001b[0m 2023-07-13 12:12:11.479454: I tensorflow/core/platform/cpu_feature_guard.cc:182] This TensorFlow binary is optimized to use available CPU instructions in performance-critical operations.\n",
      "\u001b[2m\u001b[36m(model_creator pid=275624)\u001b[0m To enable the following instructions: AVX2 FMA, in other operations, rebuild TensorFlow with the appropriate compiler flags.\n",
      "\u001b[2m\u001b[36m(model_creator pid=275624)\u001b[0m 2023-07-13 12:12:13.688663: W tensorflow/compiler/tf2tensorrt/utils/py_utils.cc:38] TF-TRT Warning: Could not find TensorRT\n",
      "Epoch 1:  54%|█████▍    | 257/474 [00:35<00:39,  5.44it/s]\u001b[32m [repeated 41x across cluster]\u001b[0m\n",
      "\u001b[2m\u001b[36m(model_creator pid=275624)\u001b[0m /home/tekboart/.local/lib/python3.11/site-packages/torch/cuda/amp/grad_scaler.py:120: UserWarning: torch.cuda.amp.GradScaler is enabled, but CUDA is not available.  Disabling.\n",
      "\u001b[2m\u001b[36m(model_creator pid=275624)\u001b[0m   warnings.warn(\"torch.cuda.amp.GradScaler is enabled, but CUDA is not available.  Disabling.\")\n",
      "Epoch 1:   0%|          | 0/60 [00:00<?, ?it/s]\n"
     ]
    },
    {
     "name": "stdout",
     "output_type": "stream",
     "text": [
      "\u001b[2m\u001b[36m(model_creator pid=275624)\u001b[0m ---------------------------------- epoch 1/10 ---------------------------------\n"
     ]
    }
   ],
   "source": [
    "if __name__ == \"__main__\":\n",
    "    #TODO: Force Ray Tune to use GPU (use >2 values if you have multiple ones)\n",
    "    # ray.init(num_cpus=8, num_gpus=1)\n",
    "\n",
    "    # You can change the number of GPUs per trial here:\n",
    "    hyperparam_tuner(config=config, num_samples=10, max_num_epochs=10)"
   ]
  },
  {
   "cell_type": "code",
   "execution_count": 11,
   "metadata": {},
   "outputs": [
    {
     "ename": "NameError",
     "evalue": "name 'results' is not defined",
     "output_type": "error",
     "traceback": [
      "\u001b[0;31m---------------------------------------------------------------------------\u001b[0m",
      "\u001b[0;31mNameError\u001b[0m                                 Traceback (most recent call last)",
      "Cell \u001b[0;32mIn[11], line 2\u001b[0m\n\u001b[1;32m      1\u001b[0m \u001b[39m# Obtain a trial dataframe from all run trials of this `tune.run` call.\u001b[39;00m\n\u001b[0;32m----> 2\u001b[0m dfs \u001b[39m=\u001b[39m {result\u001b[39m.\u001b[39mlog_dir: result\u001b[39m.\u001b[39mmetrics_dataframe \u001b[39mfor\u001b[39;00m result \u001b[39min\u001b[39;00m results}\n\u001b[1;32m      4\u001b[0m \u001b[39m# Plot by epoch\u001b[39;00m\n\u001b[1;32m      5\u001b[0m ax \u001b[39m=\u001b[39m \u001b[39mNone\u001b[39;00m  \u001b[39m# This plots everything on the same plot\u001b[39;00m\n",
      "\u001b[0;31mNameError\u001b[0m: name 'results' is not defined"
     ]
    }
   ],
   "source": [
    "# Obtain a trial dataframe from all run trials of this `tune.run` call.\n",
    "dfs = {result.log_dir: result.metrics_dataframe for result in results}\n",
    "\n",
    "# Plot by epoch\n",
    "ax = None  # This plots everything on the same plot\n",
    "for d in dfs.values():\n",
    "    ax = d.val_loss.plot(ax=ax, legend=False)\n",
    "ax.set_xlabel('Epochs')\n",
    "ax.set_ylabel(\"val_loss\")"
   ]
  }
 ],
 "metadata": {
  "kernelspec": {
   "display_name": "Python 3",
   "language": "python",
   "name": "python3"
  },
  "language_info": {
   "codemirror_mode": {
    "name": "ipython",
    "version": 3
   },
   "file_extension": ".py",
   "mimetype": "text/x-python",
   "name": "python",
   "nbconvert_exporter": "python",
   "pygments_lexer": "ipython3",
   "version": "3.11.3"
  },
  "orig_nbformat": 4
 },
 "nbformat": 4,
 "nbformat_minor": 2
}
